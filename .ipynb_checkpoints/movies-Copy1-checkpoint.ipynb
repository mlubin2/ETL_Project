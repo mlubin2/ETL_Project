{
 "cells": [
  {
   "cell_type": "code",
   "execution_count": 1,
   "metadata": {},
   "outputs": [],
   "source": [
    "%matplotlib inline\n",
    "import pandas as pd\n",
    "import numpy as np\n",
    "import os\n",
    "import csv\n",
    "from sqlalchemy import create_engine\n",
    "import cpi\n",
    "import mysql_conn"
   ]
  },
  {
   "cell_type": "code",
   "execution_count": 2,
   "metadata": {},
   "outputs": [
    {
     "data": {
      "text/plain": [
       "Index(['color', 'director_name', 'num_critic_for_reviews', 'duration',\n",
       "       'director_facebook_likes', 'actor_3_facebook_likes', 'actor_2_name',\n",
       "       'actor_1_facebook_likes', 'gross', 'genres', 'actor_1_name',\n",
       "       'movie_title', 'num_voted_users', 'cast_total_facebook_likes',\n",
       "       'actor_3_name', 'facenumber_in_poster', 'plot_keywords',\n",
       "       'movie_imdb_link', 'num_user_for_reviews', 'language', 'country',\n",
       "       'content_rating', 'budget', 'title_year', 'actor_2_facebook_likes',\n",
       "       'imdb_score', 'aspect_ratio', 'movie_facebook_likes'],\n",
       "      dtype='object')"
      ]
     },
     "execution_count": 2,
     "metadata": {},
     "output_type": "execute_result"
    }
   ],
   "source": [
    "# read and create dataframe\n",
    "movie_load = 'movie_data.csv'\n",
    "movie_df = pd.read_csv(movie_load, encoding= 'utf8')\n",
    "movie_df.columns"
   ]
  },
  {
   "cell_type": "code",
   "execution_count": 3,
   "metadata": {},
   "outputs": [],
   "source": [
    "#rename columns and repositions\n",
    "movie_df = movie_df.rename(columns={'director_name': 'Director','gross': 'Gross_Income',\n",
    "                                    'movie_title': 'Movie_Title','content_rating': 'Content_Rating', \n",
    "                                    'budget': 'Budget', 'title_year': 'Year','imdb_score': 'IMDB_Score'})"
   ]
  },
  {
   "cell_type": "code",
   "execution_count": 4,
   "metadata": {},
   "outputs": [],
   "source": [
    "#Formating Floats to Intergers\n",
    "movie_df = movie_df.dropna()\n",
    "movie_df.reset_index(drop=True, inplace=True)\n",
    "format_mapping= {'Gross_Income', 'Budget','Year'}\n",
    "for key in format_mapping:\n",
    "    movie_df[key] = movie_df[key].astype(int)"
   ]
  },
  {
   "cell_type": "code",
   "execution_count": 5,
   "metadata": {},
   "outputs": [],
   "source": [
    "#adjusting for inflation\n",
    "movie_df['Gross_Income_ADJ'] = movie_df.apply(lambda x: cpi.inflate(x.Gross_Income, x.Year), axis=1)\n",
    "movie_df['Budget_ADJ'] = movie_df.apply(lambda x: cpi.inflate(x.Budget, x.Year), axis=1)"
   ]
  },
  {
   "cell_type": "code",
   "execution_count": 6,
   "metadata": {},
   "outputs": [
    {
     "data": {
      "text/html": [
       "<div>\n",
       "<style scoped>\n",
       "    .dataframe tbody tr th:only-of-type {\n",
       "        vertical-align: middle;\n",
       "    }\n",
       "\n",
       "    .dataframe tbody tr th {\n",
       "        vertical-align: top;\n",
       "    }\n",
       "\n",
       "    .dataframe thead th {\n",
       "        text-align: right;\n",
       "    }\n",
       "</style>\n",
       "<table border=\"1\" class=\"dataframe\">\n",
       "  <thead>\n",
       "    <tr style=\"text-align: right;\">\n",
       "      <th></th>\n",
       "      <th>Movie_Title</th>\n",
       "      <th>Year</th>\n",
       "      <th>Content_Rating</th>\n",
       "      <th>Budget_ADJ</th>\n",
       "      <th>Gross_Income_ADJ</th>\n",
       "      <th>Director</th>\n",
       "      <th>IMDB_Score</th>\n",
       "      <th>moviesearch</th>\n",
       "    </tr>\n",
       "  </thead>\n",
       "  <tbody>\n",
       "    <tr>\n",
       "      <th>0</th>\n",
       "      <td>10 Cloverfield Lane</td>\n",
       "      <td>2016</td>\n",
       "      <td>PG-13</td>\n",
       "      <td>1.531955e+07</td>\n",
       "      <td>7.342888e+07</td>\n",
       "      <td>Dan Trachtenberg</td>\n",
       "      <td>7.3</td>\n",
       "      <td>10cloverfieldlane</td>\n",
       "    </tr>\n",
       "    <tr>\n",
       "      <th>1</th>\n",
       "      <td>10 Things I Hate About You</td>\n",
       "      <td>1999</td>\n",
       "      <td>PG-13</td>\n",
       "      <td>2.354094e+07</td>\n",
       "      <td>5.616883e+07</td>\n",
       "      <td>Gil Junger</td>\n",
       "      <td>7.2</td>\n",
       "      <td>10thingsihateaboutyou</td>\n",
       "    </tr>\n",
       "    <tr>\n",
       "      <th>2</th>\n",
       "      <td>102 Dalmatians</td>\n",
       "      <td>2000</td>\n",
       "      <td>G</td>\n",
       "      <td>1.209942e+08</td>\n",
       "      <td>9.528870e+07</td>\n",
       "      <td>Kevin Lima</td>\n",
       "      <td>4.8</td>\n",
       "      <td>102dalmatians</td>\n",
       "    </tr>\n",
       "    <tr>\n",
       "      <th>3</th>\n",
       "      <td>10th &amp; Wolf</td>\n",
       "      <td>2006</td>\n",
       "      <td>R</td>\n",
       "      <td>9.726984e+06</td>\n",
       "      <td>6.502610e+04</td>\n",
       "      <td>Robert Moresco</td>\n",
       "      <td>6.4</td>\n",
       "      <td>10th&amp;wolf</td>\n",
       "    </tr>\n",
       "    <tr>\n",
       "      <th>4</th>\n",
       "      <td>12 Rounds</td>\n",
       "      <td>2009</td>\n",
       "      <td>PG-13</td>\n",
       "      <td>2.513618e+07</td>\n",
       "      <td>1.397678e+07</td>\n",
       "      <td>Renny Harlin</td>\n",
       "      <td>5.6</td>\n",
       "      <td>12rounds</td>\n",
       "    </tr>\n",
       "  </tbody>\n",
       "</table>\n",
       "</div>"
      ],
      "text/plain": [
       "                   Movie_Title  Year Content_Rating    Budget_ADJ  \\\n",
       "0         10 Cloverfield Lane   2016          PG-13  1.531955e+07   \n",
       "1  10 Things I Hate About You   1999          PG-13  2.354094e+07   \n",
       "2              102 Dalmatians   2000              G  1.209942e+08   \n",
       "3                 10th & Wolf   2006              R  9.726984e+06   \n",
       "4                   12 Rounds   2009          PG-13  2.513618e+07   \n",
       "\n",
       "   Gross_Income_ADJ          Director  IMDB_Score             moviesearch  \n",
       "0      7.342888e+07  Dan Trachtenberg         7.3      10cloverfieldlane   \n",
       "1      5.616883e+07        Gil Junger         7.2  10thingsihateaboutyou   \n",
       "2      9.528870e+07        Kevin Lima         4.8          102dalmatians   \n",
       "3      6.502610e+04    Robert Moresco         6.4              10th&wolf   \n",
       "4      1.397678e+07      Renny Harlin         5.6               12rounds   "
      ]
     },
     "execution_count": 6,
     "metadata": {},
     "output_type": "execute_result"
    }
   ],
   "source": [
    "movie_df = movie_df[['Movie_Title','Year', 'Content_Rating','Budget_ADJ',\n",
    "                             'Gross_Income_ADJ', 'Director','IMDB_Score']]\n",
    "movie_df['moviesearch']=movie_df['Movie_Title'].str.lower()\n",
    "movie_df['moviesearch']=movie_df['moviesearch'].str.replace(' ', '')\n",
    "movie_df.head()"
   ]
  },
  {
   "cell_type": "code",
   "execution_count": 23,
   "metadata": {},
   "outputs": [
    {
     "data": {
      "text/plain": [
       "Index(['Movie_Title', 'Year', 'Content_Rating', 'Budget_ADJ',\n",
       "       'Gross_Income_ADJ', 'Director', 'IMDB_Score', 'moviesearch'],\n",
       "      dtype='object')"
      ]
     },
     "execution_count": 23,
     "metadata": {},
     "output_type": "execute_result"
    }
   ],
   "source": [
    "#non-formated csv\n",
    "movie_df.to_csv(\"Analysis.csv\", encoding='utf8')\n",
    "movie_df.columns"
   ]
  },
  {
   "cell_type": "code",
   "execution_count": null,
   "metadata": {},
   "outputs": [],
   "source": []
  },
  {
   "cell_type": "code",
   "execution_count": null,
   "metadata": {},
   "outputs": [],
   "source": []
  },
  {
   "cell_type": "code",
   "execution_count": 9,
   "metadata": {},
   "outputs": [],
   "source": [
    "#OSCAR DATAFRAME"
   ]
  },
  {
   "cell_type": "code",
   "execution_count": 10,
   "metadata": {},
   "outputs": [
    {
     "data": {
      "text/plain": [
       "Index(['Year', 'Ceremony', 'Award', 'Winner', 'Name', 'Film', 'Award_Count'], dtype='object')"
      ]
     },
     "execution_count": 10,
     "metadata": {},
     "output_type": "execute_result"
    }
   ],
   "source": [
    "# read and create dataframe\n",
    "oscar_load = 'oscar.csv'\n",
    "oscar_df = pd.read_csv(oscar_load, encoding= 'utf8')\n",
    "oscar_df.columns"
   ]
  },
  {
   "cell_type": "code",
   "execution_count": 11,
   "metadata": {},
   "outputs": [
    {
     "data": {
      "text/html": [
       "<div>\n",
       "<style scoped>\n",
       "    .dataframe tbody tr th:only-of-type {\n",
       "        vertical-align: middle;\n",
       "    }\n",
       "\n",
       "    .dataframe tbody tr th {\n",
       "        vertical-align: top;\n",
       "    }\n",
       "\n",
       "    .dataframe thead th {\n",
       "        text-align: right;\n",
       "    }\n",
       "</style>\n",
       "<table border=\"1\" class=\"dataframe\">\n",
       "  <thead>\n",
       "    <tr style=\"text-align: right;\">\n",
       "      <th></th>\n",
       "      <th>Ceremony</th>\n",
       "      <th>Film</th>\n",
       "      <th>Award_Count</th>\n",
       "      <th>moviesearch</th>\n",
       "    </tr>\n",
       "  </thead>\n",
       "  <tbody>\n",
       "    <tr>\n",
       "      <th>0</th>\n",
       "      <td>1</td>\n",
       "      <td>The Noose</td>\n",
       "      <td>0</td>\n",
       "      <td>thenoose</td>\n",
       "    </tr>\n",
       "    <tr>\n",
       "      <th>1</th>\n",
       "      <td>1</td>\n",
       "      <td>The Last Command</td>\n",
       "      <td>1</td>\n",
       "      <td>thelastcommand</td>\n",
       "    </tr>\n",
       "    <tr>\n",
       "      <th>2</th>\n",
       "      <td>1</td>\n",
       "      <td>A Ship Comes In</td>\n",
       "      <td>0</td>\n",
       "      <td>ashipcomesin</td>\n",
       "    </tr>\n",
       "    <tr>\n",
       "      <th>3</th>\n",
       "      <td>1</td>\n",
       "      <td>7th Heaven</td>\n",
       "      <td>3</td>\n",
       "      <td>7thheaven</td>\n",
       "    </tr>\n",
       "    <tr>\n",
       "      <th>4</th>\n",
       "      <td>1</td>\n",
       "      <td>Sadie Thompson</td>\n",
       "      <td>0</td>\n",
       "      <td>sadiethompson</td>\n",
       "    </tr>\n",
       "  </tbody>\n",
       "</table>\n",
       "</div>"
      ],
      "text/plain": [
       "   Ceremony              Film  Award_Count     moviesearch\n",
       "0         1         The Noose            0        thenoose\n",
       "1         1  The Last Command            1  thelastcommand\n",
       "2         1   A Ship Comes In            0    ashipcomesin\n",
       "3         1        7th Heaven            3       7thheaven\n",
       "4         1    Sadie Thompson            0   sadiethompson"
      ]
     },
     "execution_count": 11,
     "metadata": {},
     "output_type": "execute_result"
    }
   ],
   "source": [
    "oscar_df = oscar_df[['Ceremony','Film', 'Award_Count']]\n",
    "oscar_df['moviesearch']=oscar_df['Film'].str.lower()\n",
    "oscar_df['moviesearch']=oscar_df['moviesearch'].str.replace(' ', '')\n",
    "oscar_df.head()"
   ]
  },
  {
   "cell_type": "code",
   "execution_count": 12,
   "metadata": {},
   "outputs": [],
   "source": [
    "oscar_df.to_csv(\"Oscar_Mod.csv\")"
   ]
  },
  {
   "cell_type": "code",
   "execution_count": 13,
   "metadata": {},
   "outputs": [],
   "source": [
    "#SQL CONNECTION"
   ]
  },
  {
   "cell_type": "code",
   "execution_count": 24,
   "metadata": {},
   "outputs": [],
   "source": [
    "connection_string = (\n",
    "   f\"root:{mysql_conn.password}@localhost/movie_search_db?charset=utf8\")\n",
    "engine = create_engine(f'mysql://{connection_string}')\n"
   ]
  },
  {
   "cell_type": "code",
   "execution_count": 25,
   "metadata": {},
   "outputs": [
    {
     "data": {
      "text/plain": [
       "['movies', 'oscar']"
      ]
     },
     "execution_count": 25,
     "metadata": {},
     "output_type": "execute_result"
    }
   ],
   "source": [
    "engine.table_names()"
   ]
  },
  {
   "cell_type": "code",
   "execution_count": 26,
   "metadata": {},
   "outputs": [],
   "source": [
    "movie_df.to_sql(\n",
    "   name='movies', con=engine,\n",
    "   if_exists='append', index=False)"
   ]
  },
  {
   "cell_type": "code",
   "execution_count": 27,
   "metadata": {},
   "outputs": [],
   "source": [
    "oscar_df.to_sql(\n",
    "   name='oscar', con=engine,\n",
    "   if_exists='append', index=False)"
   ]
  },
  {
   "cell_type": "code",
   "execution_count": null,
   "metadata": {},
   "outputs": [],
   "source": []
  }
 ],
 "metadata": {
  "kernelspec": {
   "display_name": "Python 3",
   "language": "python",
   "name": "python3"
  },
  "language_info": {
   "codemirror_mode": {
    "name": "ipython",
    "version": 3
   },
   "file_extension": ".py",
   "mimetype": "text/x-python",
   "name": "python",
   "nbconvert_exporter": "python",
   "pygments_lexer": "ipython3",
   "version": "3.6.6"
  }
 },
 "nbformat": 4,
 "nbformat_minor": 2
}
