{
 "cells": [
  {
   "cell_type": "code",
   "execution_count": 1,
   "metadata": {},
   "outputs": [],
   "source": [
    "import pandas as pd\n",
    "import numpy as np\n",
    "import os\n",
    "import csv\n",
    "from sqlalchemy import create_engine"
   ]
  },
  {
   "cell_type": "code",
   "execution_count": 2,
   "metadata": {},
   "outputs": [
    {
     "data": {
      "text/plain": [
       "Index(['color', 'director_name', 'num_critic_for_reviews', 'duration',\n",
       "       'director_facebook_likes', 'actor_3_facebook_likes', 'actor_2_name',\n",
       "       'actor_1_facebook_likes', 'gross', 'genres', 'actor_1_name',\n",
       "       'movie_title', 'num_voted_users', 'cast_total_facebook_likes',\n",
       "       'actor_3_name', 'facenumber_in_poster', 'plot_keywords',\n",
       "       'movie_imdb_link', 'num_user_for_reviews', 'language', 'country',\n",
       "       'content_rating', 'budget', 'title_year', 'actor_2_facebook_likes',\n",
       "       'imdb_score', 'aspect_ratio', 'movie_facebook_likes'],\n",
       "      dtype='object')"
      ]
     },
     "execution_count": 2,
     "metadata": {},
     "output_type": "execute_result"
    }
   ],
   "source": [
    "# read and create dataframe\n",
    "movie_load = 'movie_data.csv'\n",
    "\n",
    "#movie_load = os.path.join('movie_data.csv')\n",
    "movie_df = pd.read_csv(movie_load, encoding= 'utf8')\n",
    "movie_df.columns"
   ]
  },
  {
   "cell_type": "code",
   "execution_count": 4,
   "metadata": {},
   "outputs": [],
   "source": [
    "#rename columns and repositions\n",
    "movie_df = movie_df.rename(columns={'director_name': 'Director','gross': 'Gross_Income',\n",
    "                                    'movie_title': 'Movie Title','content_rating': 'Content Rating', \n",
    "                                    'budget': 'Budget', 'title_year': 'Year','imdb_score': 'IMDB Score'})"
   ]
  },
  {
   "cell_type": "code",
   "execution_count": 6,
   "metadata": {},
   "outputs": [],
   "source": [
    "#create genere list\n",
    "#genfive = pd.Series(list(movie_df[\"Genere\"]))\n",
    "#gen = pd.get_dummies(movie_df['Genere'].str.split('|').apply(pd.Series).stack()).sum(level=0)"
   ]
  },
  {
   "cell_type": "code",
   "execution_count": 7,
   "metadata": {},
   "outputs": [],
   "source": [
    "#new_movie_df = pd.merge(movie_df, gen, left_index=True, right_index=True)\n",
    "#new_movie_df.columns"
   ]
  },
  {
   "cell_type": "code",
   "execution_count": 8,
   "metadata": {},
   "outputs": [
    {
     "data": {
      "text/html": [
       "<div>\n",
       "<style scoped>\n",
       "    .dataframe tbody tr th:only-of-type {\n",
       "        vertical-align: middle;\n",
       "    }\n",
       "\n",
       "    .dataframe tbody tr th {\n",
       "        vertical-align: top;\n",
       "    }\n",
       "\n",
       "    .dataframe thead th {\n",
       "        text-align: right;\n",
       "    }\n",
       "</style>\n",
       "<table border=\"1\" class=\"dataframe\">\n",
       "  <thead>\n",
       "    <tr style=\"text-align: right;\">\n",
       "      <th></th>\n",
       "      <th>Movie Title</th>\n",
       "      <th>Year</th>\n",
       "      <th>Content Rating</th>\n",
       "      <th>Budget</th>\n",
       "      <th>Gross_Income</th>\n",
       "      <th>Director</th>\n",
       "      <th>IMDB Score</th>\n",
       "    </tr>\n",
       "  </thead>\n",
       "  <tbody>\n",
       "    <tr>\n",
       "      <th>0</th>\n",
       "      <td>Avatar</td>\n",
       "      <td>2009.0</td>\n",
       "      <td>PG-13</td>\n",
       "      <td>237000000.0</td>\n",
       "      <td>760505847.0</td>\n",
       "      <td>James Cameron</td>\n",
       "      <td>7.9</td>\n",
       "    </tr>\n",
       "    <tr>\n",
       "      <th>1</th>\n",
       "      <td>Pirates of the Caribbean: At World's End</td>\n",
       "      <td>2007.0</td>\n",
       "      <td>PG-13</td>\n",
       "      <td>300000000.0</td>\n",
       "      <td>309404152.0</td>\n",
       "      <td>Gore Verbinski</td>\n",
       "      <td>7.1</td>\n",
       "    </tr>\n",
       "    <tr>\n",
       "      <th>2</th>\n",
       "      <td>Spectre</td>\n",
       "      <td>2015.0</td>\n",
       "      <td>PG-13</td>\n",
       "      <td>245000000.0</td>\n",
       "      <td>200074175.0</td>\n",
       "      <td>Sam Mendes</td>\n",
       "      <td>6.8</td>\n",
       "    </tr>\n",
       "    <tr>\n",
       "      <th>3</th>\n",
       "      <td>The Dark Knight Rises</td>\n",
       "      <td>2012.0</td>\n",
       "      <td>PG-13</td>\n",
       "      <td>250000000.0</td>\n",
       "      <td>448130642.0</td>\n",
       "      <td>Christopher Nolan</td>\n",
       "      <td>8.5</td>\n",
       "    </tr>\n",
       "    <tr>\n",
       "      <th>4</th>\n",
       "      <td>Star Wars: Episode VII - The Force Awakens    ...</td>\n",
       "      <td>NaN</td>\n",
       "      <td>NaN</td>\n",
       "      <td>NaN</td>\n",
       "      <td>NaN</td>\n",
       "      <td>Doug Walker</td>\n",
       "      <td>7.1</td>\n",
       "    </tr>\n",
       "  </tbody>\n",
       "</table>\n",
       "</div>"
      ],
      "text/plain": [
       "                                         Movie Title    Year Content Rating  \\\n",
       "0                                            Avatar   2009.0          PG-13   \n",
       "1          Pirates of the Caribbean: At World's End   2007.0          PG-13   \n",
       "2                                           Spectre   2015.0          PG-13   \n",
       "3                             The Dark Knight Rises   2012.0          PG-13   \n",
       "4  Star Wars: Episode VII - The Force Awakens    ...     NaN            NaN   \n",
       "\n",
       "        Budget  Gross_Income           Director  IMDB Score  \n",
       "0  237000000.0   760505847.0      James Cameron         7.9  \n",
       "1  300000000.0   309404152.0     Gore Verbinski         7.1  \n",
       "2  245000000.0   200074175.0         Sam Mendes         6.8  \n",
       "3  250000000.0   448130642.0  Christopher Nolan         8.5  \n",
       "4          NaN           NaN        Doug Walker         7.1  "
      ]
     },
     "execution_count": 8,
     "metadata": {},
     "output_type": "execute_result"
    }
   ],
   "source": [
    "movie_df = movie_df[['Movie Title','Year', 'Content Rating','Budget',\n",
    "                             'Gross_Income', 'Director','IMDB Score']]\n",
    "movie_df.head()"
   ]
  },
  {
   "cell_type": "code",
   "execution_count": 10,
   "metadata": {},
   "outputs": [
    {
     "data": {
      "text/plain": [
       "Index(['Movie Title', 'Year', 'Content Rating', 'Budget', 'Gross_Income',\n",
       "       'Director', 'IMDB Score'],\n",
       "      dtype='object')"
      ]
     },
     "execution_count": 10,
     "metadata": {},
     "output_type": "execute_result"
    }
   ],
   "source": [
    "#Drop NaN\n",
    "drop_df = movie_df.dropna()\n",
    "drop_df.head()\n",
    "drop_df.to_csv(\"Analysis.csv\")\n",
    "condf=drop_df\n",
    "drop_df.columns"
   ]
  },
  {
   "cell_type": "code",
   "execution_count": 11,
   "metadata": {},
   "outputs": [
    {
     "name": "stderr",
     "output_type": "stream",
     "text": [
      "C:\\Users\\Melissa\\Anaconda3\\envs\\PythonData\\lib\\site-packages\\ipykernel_launcher.py:4: SettingWithCopyWarning: \n",
      "A value is trying to be set on a copy of a slice from a DataFrame.\n",
      "Try using .loc[row_indexer,col_indexer] = value instead\n",
      "\n",
      "See the caveats in the documentation: http://pandas.pydata.org/pandas-docs/stable/indexing.html#indexing-view-versus-copy\n",
      "  after removing the cwd from sys.path.\n"
     ]
    },
    {
     "data": {
      "text/html": [
       "<div>\n",
       "<style scoped>\n",
       "    .dataframe tbody tr th:only-of-type {\n",
       "        vertical-align: middle;\n",
       "    }\n",
       "\n",
       "    .dataframe tbody tr th {\n",
       "        vertical-align: top;\n",
       "    }\n",
       "\n",
       "    .dataframe thead th {\n",
       "        text-align: right;\n",
       "    }\n",
       "</style>\n",
       "<table border=\"1\" class=\"dataframe\">\n",
       "  <thead>\n",
       "    <tr style=\"text-align: right;\">\n",
       "      <th></th>\n",
       "      <th>Movie Title</th>\n",
       "      <th>Year</th>\n",
       "      <th>Content Rating</th>\n",
       "      <th>Budget</th>\n",
       "      <th>Gross_Income</th>\n",
       "      <th>Director</th>\n",
       "      <th>IMDB Score</th>\n",
       "    </tr>\n",
       "  </thead>\n",
       "  <tbody>\n",
       "    <tr>\n",
       "      <th>0</th>\n",
       "      <td>Avatar</td>\n",
       "      <td>2009</td>\n",
       "      <td>PG-13</td>\n",
       "      <td>$237,000,000.00</td>\n",
       "      <td>$760,505,847.00</td>\n",
       "      <td>James Cameron</td>\n",
       "      <td>7.9</td>\n",
       "    </tr>\n",
       "    <tr>\n",
       "      <th>1</th>\n",
       "      <td>Pirates of the Caribbean: At World's End</td>\n",
       "      <td>2007</td>\n",
       "      <td>PG-13</td>\n",
       "      <td>$300,000,000.00</td>\n",
       "      <td>$309,404,152.00</td>\n",
       "      <td>Gore Verbinski</td>\n",
       "      <td>7.1</td>\n",
       "    </tr>\n",
       "    <tr>\n",
       "      <th>2</th>\n",
       "      <td>Spectre</td>\n",
       "      <td>2015</td>\n",
       "      <td>PG-13</td>\n",
       "      <td>$245,000,000.00</td>\n",
       "      <td>$200,074,175.00</td>\n",
       "      <td>Sam Mendes</td>\n",
       "      <td>6.8</td>\n",
       "    </tr>\n",
       "    <tr>\n",
       "      <th>3</th>\n",
       "      <td>The Dark Knight Rises</td>\n",
       "      <td>2012</td>\n",
       "      <td>PG-13</td>\n",
       "      <td>$250,000,000.00</td>\n",
       "      <td>$448,130,642.00</td>\n",
       "      <td>Christopher Nolan</td>\n",
       "      <td>8.5</td>\n",
       "    </tr>\n",
       "    <tr>\n",
       "      <th>5</th>\n",
       "      <td>John Carter</td>\n",
       "      <td>2012</td>\n",
       "      <td>PG-13</td>\n",
       "      <td>$263,700,000.00</td>\n",
       "      <td>$73,058,679.00</td>\n",
       "      <td>Andrew Stanton</td>\n",
       "      <td>6.6</td>\n",
       "    </tr>\n",
       "  </tbody>\n",
       "</table>\n",
       "</div>"
      ],
      "text/plain": [
       "                                 Movie Title  Year Content Rating  \\\n",
       "0                                    Avatar   2009          PG-13   \n",
       "1  Pirates of the Caribbean: At World's End   2007          PG-13   \n",
       "2                                   Spectre   2015          PG-13   \n",
       "3                     The Dark Knight Rises   2012          PG-13   \n",
       "5                               John Carter   2012          PG-13   \n",
       "\n",
       "            Budget     Gross_Income           Director  IMDB Score  \n",
       "0  $237,000,000.00  $760,505,847.00      James Cameron         7.9  \n",
       "1  $300,000,000.00  $309,404,152.00     Gore Verbinski         7.1  \n",
       "2  $245,000,000.00  $200,074,175.00         Sam Mendes         6.8  \n",
       "3  $250,000,000.00  $448,130,642.00  Christopher Nolan         8.5  \n",
       "5  $263,700,000.00   $73,058,679.00     Andrew Stanton         6.6  "
      ]
     },
     "execution_count": 11,
     "metadata": {},
     "output_type": "execute_result"
    }
   ],
   "source": [
    "#Convert to $\n",
    "format_mapping= {'Gross_Income':'${:,.2f}','Budget': '${:,.2f}','Year': '{:.0f}'}\n",
    "for key, value in format_mapping.items():\n",
    "    condf[key] = drop_df[key].apply(value.format)\n",
    "    \n",
    "condf.head()\n",
    "\n",
    "\n",
    "#condf['Budget']=drop_df['Budget'].map('${:,.2f}'.format)\n",
    "#condf['Gross Income']=drop_df['Gross Income'].map('${:,.2f}'.format)\n",
    "#condf['Number of User Votes']=drop_df['Number of User Votes'].map('{:,.0f}'.format)\n",
    "#condf['Number of Critic Reviews']=drop_df['Number of Critic Reviews'].map('{:,.0f}'.format)\n",
    "#condf['Number of User Reviews']=drop_df['Number of User Reviews'].map('{:,.0f}'.format)\n",
    "#condf['Facebook Likes (Director)']=drop_df['Facebook Likes (Director)'].map('{:,.0f}'.format)\n",
    "#condf['Facebook Likes (Actor 1)']=drop_df['Facebook Likes (Actor 1)'].map('{:,.0f}'.format)\n",
    "#condf['Facebook Likes (Actor 2)']=drop_df['Facebook Likes (Actor 2)'].map('{:,.0f}'.format)\n",
    "#condf['Facebook Likes (Actor 3)']=drop_df['Facebook Likes (Actor 3)'].map('{:,.0f}'.format)\n",
    "#condf['Year']=drop_df['Year'].map('{:.0f}'.format)\n",
    "#condf['Duration (Minutes)']=drop_df['Duration (Minutes)'].map('{:,.0f}'.format)\n",
    "#condf['Number of Faces in Poster']=drop_df['Number of Faces in Poster'].map('{:,.0f}'.format)\n",
    "#condf.head()"
   ]
  },
  {
   "cell_type": "code",
   "execution_count": 12,
   "metadata": {},
   "outputs": [],
   "source": [
    "condf.to_csv(\"Clean_Data.csv\")"
   ]
  },
  {
   "cell_type": "code",
   "execution_count": null,
   "metadata": {},
   "outputs": [],
   "source": []
  },
  {
   "cell_type": "code",
   "execution_count": null,
   "metadata": {},
   "outputs": [],
   "source": []
  },
  {
   "cell_type": "code",
   "execution_count": null,
   "metadata": {},
   "outputs": [],
   "source": []
  }
 ],
 "metadata": {
  "kernelspec": {
   "display_name": "Python 3",
   "language": "python",
   "name": "python3"
  },
  "language_info": {
   "codemirror_mode": {
    "name": "ipython",
    "version": 3
   },
   "file_extension": ".py",
   "mimetype": "text/x-python",
   "name": "python",
   "nbconvert_exporter": "python",
   "pygments_lexer": "ipython3",
   "version": "3.6.5"
  }
 },
 "nbformat": 4,
 "nbformat_minor": 2
}
