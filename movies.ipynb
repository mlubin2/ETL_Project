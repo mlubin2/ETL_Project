{
 "cells": [
  {
   "cell_type": "code",
   "execution_count": 1,
   "metadata": {},
   "outputs": [],
   "source": [
    "# Dependecies \n",
    "%matplotlib inline\n",
    "import matplotlib.pyplot as plt\n",
    "import pandas as pd\n",
    "import numpy as np\n",
    "import os\n",
    "import csv"
   ]
  },
  {
   "cell_type": "code",
   "execution_count": 2,
   "metadata": {},
   "outputs": [
    {
     "data": {
      "text/plain": [
       "Index(['color', 'director_name', 'num_critic_for_reviews', 'duration',\n",
       "       'director_facebook_likes', 'actor_3_facebook_likes', 'actor_2_name',\n",
       "       'actor_1_facebook_likes', 'gross', 'genres', 'actor_1_name',\n",
       "       'movie_title', 'num_voted_users', 'cast_total_facebook_likes',\n",
       "       'actor_3_name', 'facenumber_in_poster', 'plot_keywords',\n",
       "       'movie_imdb_link', 'num_user_for_reviews', 'language', 'country',\n",
       "       'content_rating', 'budget', 'title_year', 'actor_2_facebook_likes',\n",
       "       'imdb_score', 'aspect_ratio', 'movie_facebook_likes'],\n",
       "      dtype='object')"
      ]
     },
     "execution_count": 2,
     "metadata": {},
     "output_type": "execute_result"
    }
   ],
   "source": [
    "# read and create dataframe\n",
    "\n",
    "movie_load = 'movie_data.csv'\n",
    "#movie_load = os.path.join('movie_data.csv')\n",
    "movie_df = pd.read_csv(movie_load, encoding= 'utf8')\n",
    "movie_df.columns\n"
   ]
  },
  {
   "cell_type": "code",
   "execution_count": 3,
   "metadata": {},
   "outputs": [],
   "source": [
    "#rename columns and repositions\n",
    "movie_df = movie_df.rename(columns={'color': 'Color', 'director_name': 'Director', \n",
    "                                    'num_critic_for_reviews': 'Number of Critic Reviews', \n",
    "                                    'duration': 'Duration (Minutes)','director_facebook_likes': 'Facebook Likes (Director)',\n",
    "                                    'actor_3_facebook_likes': 'Facebook Likes (Actor 3)', \n",
    "                                    'actor_2_name': 'Actor 2', 'actor_1_facebook_likes': 'Facebook Likes (Actor 1)', \n",
    "                                    'gross': 'Gross_Income', 'genres' : 'Genere', 'actor_1_name': 'Actor 1',\n",
    "                                    'movie_title': 'Movie Title', 'num_voted_users': 'Number of User Votes', \n",
    "                                    'cast_total_facebook_likes': 'Cast Total Facebook Likes',\n",
    "                                    'actor_3_name': 'Actor 3', 'facenumber_in_poster': 'Number of Faces in Poster', \n",
    "                                    'plot_keywords': 'Plot Keywords', 'movie_imdb_link': 'IMDB Movie Link', \n",
    "                                    'num_user_for_reviews': 'Number of User Reviews', 'language': 'Language', \n",
    "                                    'country': 'Country', 'content_rating': 'Content Rating', \n",
    "                                    'budget': 'Budget', 'title_year': 'Year', \n",
    "                                    'actor_2_facebook_likes': 'Facebook Likes (Actor 2)', 'imdb_score': 'IMDB Score',\n",
    "                                    'aspect_ratio': 'Aspect Ratio', 'movie_facebook_likes': 'Movie Facebook Likes'})\n",
    "movie_df = movie_df[movie_df['Language'].isin(['English'])]\n",
    "movie_df = movie_df[movie_df['Country'].isin(['USA'])]"
   ]
  },
  {
   "cell_type": "code",
   "execution_count": 4,
   "metadata": {},
   "outputs": [],
   "source": [
    "#create genere list\n",
    "#genfive = pd.Series(list(movie_df[\"Genere\"]))\n",
    "gen = pd.get_dummies(movie_df['Genere'].str.split('|').apply(pd.Series).stack()).sum(level=0)"
   ]
  },
  {
   "cell_type": "code",
   "execution_count": 5,
   "metadata": {},
   "outputs": [
    {
     "data": {
      "text/plain": [
       "Index(['Color', 'Director', 'Number of Critic Reviews', 'Duration (Minutes)',\n",
       "       'Facebook Likes (Director)', 'Facebook Likes (Actor 3)', 'Actor 2',\n",
       "       'Facebook Likes (Actor 1)', 'Gross_Income', 'Genere', 'Actor 1',\n",
       "       'Movie Title', 'Number of User Votes', 'Cast Total Facebook Likes',\n",
       "       'Actor 3', 'Number of Faces in Poster', 'Plot Keywords',\n",
       "       'IMDB Movie Link', 'Number of User Reviews', 'Language', 'Country',\n",
       "       'Content Rating', 'Budget', 'Year', 'Facebook Likes (Actor 2)',\n",
       "       'IMDB Score', 'Aspect Ratio', 'Movie Facebook Likes', 'Action',\n",
       "       'Adventure', 'Animation', 'Biography', 'Comedy', 'Crime', 'Documentary',\n",
       "       'Drama', 'Family', 'Fantasy', 'Film-Noir', 'Game-Show', 'History',\n",
       "       'Horror', 'Music', 'Musical', 'Mystery', 'News', 'Reality-TV',\n",
       "       'Romance', 'Sci-Fi', 'Short', 'Sport', 'Thriller', 'War', 'Western'],\n",
       "      dtype='object')"
      ]
     },
     "execution_count": 5,
     "metadata": {},
     "output_type": "execute_result"
    }
   ],
   "source": [
    "new_movie_df = pd.merge(movie_df, gen, left_index=True, right_index=True)\n",
    "new_movie_df.columns"
   ]
  },
  {
   "cell_type": "code",
   "execution_count": 6,
   "metadata": {},
   "outputs": [
    {
     "data": {
      "text/html": [
       "<div>\n",
       "<style scoped>\n",
       "    .dataframe tbody tr th:only-of-type {\n",
       "        vertical-align: middle;\n",
       "    }\n",
       "\n",
       "    .dataframe tbody tr th {\n",
       "        vertical-align: top;\n",
       "    }\n",
       "\n",
       "    .dataframe thead th {\n",
       "        text-align: right;\n",
       "    }\n",
       "</style>\n",
       "<table border=\"1\" class=\"dataframe\">\n",
       "  <thead>\n",
       "    <tr style=\"text-align: right;\">\n",
       "      <th></th>\n",
       "      <th>Movie Title</th>\n",
       "      <th>Year</th>\n",
       "      <th>Content Rating</th>\n",
       "      <th>Budget</th>\n",
       "      <th>Gross_Income</th>\n",
       "      <th>Director</th>\n",
       "      <th>IMDB Score</th>\n",
       "    </tr>\n",
       "  </thead>\n",
       "  <tbody>\n",
       "    <tr>\n",
       "      <th>0</th>\n",
       "      <td>Avatar</td>\n",
       "      <td>2009.0</td>\n",
       "      <td>PG-13</td>\n",
       "      <td>237000000.0</td>\n",
       "      <td>760505847.0</td>\n",
       "      <td>James Cameron</td>\n",
       "      <td>7.9</td>\n",
       "    </tr>\n",
       "    <tr>\n",
       "      <th>1</th>\n",
       "      <td>Pirates of the Caribbean: At World's End</td>\n",
       "      <td>2007.0</td>\n",
       "      <td>PG-13</td>\n",
       "      <td>300000000.0</td>\n",
       "      <td>309404152.0</td>\n",
       "      <td>Gore Verbinski</td>\n",
       "      <td>7.1</td>\n",
       "    </tr>\n",
       "    <tr>\n",
       "      <th>3</th>\n",
       "      <td>The Dark Knight Rises</td>\n",
       "      <td>2012.0</td>\n",
       "      <td>PG-13</td>\n",
       "      <td>250000000.0</td>\n",
       "      <td>448130642.0</td>\n",
       "      <td>Christopher Nolan</td>\n",
       "      <td>8.5</td>\n",
       "    </tr>\n",
       "    <tr>\n",
       "      <th>5</th>\n",
       "      <td>John Carter</td>\n",
       "      <td>2012.0</td>\n",
       "      <td>PG-13</td>\n",
       "      <td>263700000.0</td>\n",
       "      <td>73058679.0</td>\n",
       "      <td>Andrew Stanton</td>\n",
       "      <td>6.6</td>\n",
       "    </tr>\n",
       "    <tr>\n",
       "      <th>6</th>\n",
       "      <td>Spider-Man 3</td>\n",
       "      <td>2007.0</td>\n",
       "      <td>PG-13</td>\n",
       "      <td>258000000.0</td>\n",
       "      <td>336530303.0</td>\n",
       "      <td>Sam Raimi</td>\n",
       "      <td>6.2</td>\n",
       "    </tr>\n",
       "  </tbody>\n",
       "</table>\n",
       "</div>"
      ],
      "text/plain": [
       "                                 Movie Title    Year Content Rating  \\\n",
       "0                                    Avatar   2009.0          PG-13   \n",
       "1  Pirates of the Caribbean: At World's End   2007.0          PG-13   \n",
       "3                     The Dark Knight Rises   2012.0          PG-13   \n",
       "5                               John Carter   2012.0          PG-13   \n",
       "6                              Spider-Man 3   2007.0          PG-13   \n",
       "\n",
       "        Budget  Gross_Income           Director  IMDB Score  \n",
       "0  237000000.0   760505847.0      James Cameron         7.9  \n",
       "1  300000000.0   309404152.0     Gore Verbinski         7.1  \n",
       "3  250000000.0   448130642.0  Christopher Nolan         8.5  \n",
       "5  263700000.0    73058679.0     Andrew Stanton         6.6  \n",
       "6  258000000.0   336530303.0          Sam Raimi         6.2  "
      ]
     },
     "execution_count": 6,
     "metadata": {},
     "output_type": "execute_result"
    }
   ],
   "source": [
    "new_movie_df = new_movie_df[['Movie Title','Year', 'Content Rating','Budget',\n",
    "                             'Gross_Income', 'Director','IMDB Score']]\n",
    "new_movie_df.head()"
   ]
  },
  {
   "cell_type": "code",
   "execution_count": 7,
   "metadata": {},
   "outputs": [
    {
     "data": {
      "text/plain": [
       "Index(['Movie Title', 'Year', 'Content Rating', 'Budget', 'Gross_Income',\n",
       "       'Director', 'IMDB Score'],\n",
       "      dtype='object')"
      ]
     },
     "execution_count": 7,
     "metadata": {},
     "output_type": "execute_result"
    }
   ],
   "source": [
    "#Drop NaN\n",
    "drop_df = new_movie_df.dropna()\n",
    "drop_df.head()\n",
    "drop_df.to_csv(\"Analysis.csv\")\n",
    "condf=drop_df\n",
    "drop_df.columns"
   ]
  },
  {
   "cell_type": "code",
   "execution_count": 8,
   "metadata": {},
   "outputs": [
    {
     "name": "stderr",
     "output_type": "stream",
     "text": [
      "C:\\Users\\Melissa\\Anaconda3\\lib\\site-packages\\ipykernel_launcher.py:4: SettingWithCopyWarning: \n",
      "A value is trying to be set on a copy of a slice from a DataFrame.\n",
      "Try using .loc[row_indexer,col_indexer] = value instead\n",
      "\n",
      "See the caveats in the documentation: http://pandas.pydata.org/pandas-docs/stable/indexing.html#indexing-view-versus-copy\n",
      "  after removing the cwd from sys.path.\n"
     ]
    },
    {
     "data": {
      "text/html": [
       "<div>\n",
       "<style scoped>\n",
       "    .dataframe tbody tr th:only-of-type {\n",
       "        vertical-align: middle;\n",
       "    }\n",
       "\n",
       "    .dataframe tbody tr th {\n",
       "        vertical-align: top;\n",
       "    }\n",
       "\n",
       "    .dataframe thead th {\n",
       "        text-align: right;\n",
       "    }\n",
       "</style>\n",
       "<table border=\"1\" class=\"dataframe\">\n",
       "  <thead>\n",
       "    <tr style=\"text-align: right;\">\n",
       "      <th></th>\n",
       "      <th>Movie Title</th>\n",
       "      <th>Year</th>\n",
       "      <th>Content Rating</th>\n",
       "      <th>Budget</th>\n",
       "      <th>Gross_Income</th>\n",
       "      <th>Director</th>\n",
       "      <th>IMDB Score</th>\n",
       "    </tr>\n",
       "  </thead>\n",
       "  <tbody>\n",
       "    <tr>\n",
       "      <th>0</th>\n",
       "      <td>Avatar</td>\n",
       "      <td>2009</td>\n",
       "      <td>PG-13</td>\n",
       "      <td>$237,000,000.00</td>\n",
       "      <td>$760,505,847.00</td>\n",
       "      <td>James Cameron</td>\n",
       "      <td>7.9</td>\n",
       "    </tr>\n",
       "    <tr>\n",
       "      <th>1</th>\n",
       "      <td>Pirates of the Caribbean: At World's End</td>\n",
       "      <td>2007</td>\n",
       "      <td>PG-13</td>\n",
       "      <td>$300,000,000.00</td>\n",
       "      <td>$309,404,152.00</td>\n",
       "      <td>Gore Verbinski</td>\n",
       "      <td>7.1</td>\n",
       "    </tr>\n",
       "    <tr>\n",
       "      <th>3</th>\n",
       "      <td>The Dark Knight Rises</td>\n",
       "      <td>2012</td>\n",
       "      <td>PG-13</td>\n",
       "      <td>$250,000,000.00</td>\n",
       "      <td>$448,130,642.00</td>\n",
       "      <td>Christopher Nolan</td>\n",
       "      <td>8.5</td>\n",
       "    </tr>\n",
       "    <tr>\n",
       "      <th>5</th>\n",
       "      <td>John Carter</td>\n",
       "      <td>2012</td>\n",
       "      <td>PG-13</td>\n",
       "      <td>$263,700,000.00</td>\n",
       "      <td>$73,058,679.00</td>\n",
       "      <td>Andrew Stanton</td>\n",
       "      <td>6.6</td>\n",
       "    </tr>\n",
       "    <tr>\n",
       "      <th>6</th>\n",
       "      <td>Spider-Man 3</td>\n",
       "      <td>2007</td>\n",
       "      <td>PG-13</td>\n",
       "      <td>$258,000,000.00</td>\n",
       "      <td>$336,530,303.00</td>\n",
       "      <td>Sam Raimi</td>\n",
       "      <td>6.2</td>\n",
       "    </tr>\n",
       "  </tbody>\n",
       "</table>\n",
       "</div>"
      ],
      "text/plain": [
       "                                 Movie Title  Year Content Rating  \\\n",
       "0                                    Avatar   2009          PG-13   \n",
       "1  Pirates of the Caribbean: At World's End   2007          PG-13   \n",
       "3                     The Dark Knight Rises   2012          PG-13   \n",
       "5                               John Carter   2012          PG-13   \n",
       "6                              Spider-Man 3   2007          PG-13   \n",
       "\n",
       "            Budget     Gross_Income           Director  IMDB Score  \n",
       "0  $237,000,000.00  $760,505,847.00      James Cameron         7.9  \n",
       "1  $300,000,000.00  $309,404,152.00     Gore Verbinski         7.1  \n",
       "3  $250,000,000.00  $448,130,642.00  Christopher Nolan         8.5  \n",
       "5  $263,700,000.00   $73,058,679.00     Andrew Stanton         6.6  \n",
       "6  $258,000,000.00  $336,530,303.00          Sam Raimi         6.2  "
      ]
     },
     "execution_count": 8,
     "metadata": {},
     "output_type": "execute_result"
    }
   ],
   "source": [
    "#Convert to $\n",
    "format_mapping= {'Gross_Income':'${:,.2f}','Budget': '${:,.2f}','Year': '{:.0f}'}\n",
    "for key, value in format_mapping.items():\n",
    "    condf[key] = drop_df[key].apply(value.format)\n",
    "    \n",
    "condf.head()\n",
    "\n",
    "\n",
    "#condf['Budget']=drop_df['Budget'].map('${:,.2f}'.format)\n",
    "#condf['Gross Income']=drop_df['Gross Income'].map('${:,.2f}'.format)\n",
    "#condf['Number of User Votes']=drop_df['Number of User Votes'].map('{:,.0f}'.format)\n",
    "#condf['Number of Critic Reviews']=drop_df['Number of Critic Reviews'].map('{:,.0f}'.format)\n",
    "#condf['Number of User Reviews']=drop_df['Number of User Reviews'].map('{:,.0f}'.format)\n",
    "#condf['Facebook Likes (Director)']=drop_df['Facebook Likes (Director)'].map('{:,.0f}'.format)\n",
    "#condf['Facebook Likes (Actor 1)']=drop_df['Facebook Likes (Actor 1)'].map('{:,.0f}'.format)\n",
    "#condf['Facebook Likes (Actor 2)']=drop_df['Facebook Likes (Actor 2)'].map('{:,.0f}'.format)\n",
    "#condf['Facebook Likes (Actor 3)']=drop_df['Facebook Likes (Actor 3)'].map('{:,.0f}'.format)\n",
    "#condf['Year']=drop_df['Year'].map('{:.0f}'.format)\n",
    "#condf['Duration (Minutes)']=drop_df['Duration (Minutes)'].map('{:,.0f}'.format)\n",
    "#condf['Number of Faces in Poster']=drop_df['Number of Faces in Poster'].map('{:,.0f}'.format)\n",
    "#condf.head()"
   ]
  },
  {
   "cell_type": "code",
   "execution_count": 9,
   "metadata": {},
   "outputs": [],
   "source": [
    "condf.to_csv(\"Clean_Data.csv\")"
   ]
  },
  {
   "cell_type": "code",
   "execution_count": null,
   "metadata": {},
   "outputs": [],
   "source": []
  },
  {
   "cell_type": "code",
   "execution_count": null,
   "metadata": {},
   "outputs": [],
   "source": []
  },
  {
   "cell_type": "code",
   "execution_count": null,
   "metadata": {},
   "outputs": [],
   "source": []
  }
 ],
 "metadata": {
  "kernelspec": {
   "display_name": "Python 3",
   "language": "python",
   "name": "python3"
  },
  "language_info": {
   "codemirror_mode": {
    "name": "ipython",
    "version": 3
   },
   "file_extension": ".py",
   "mimetype": "text/x-python",
   "name": "python",
   "nbconvert_exporter": "python",
   "pygments_lexer": "ipython3",
   "version": "3.6.5"
  }
 },
 "nbformat": 4,
 "nbformat_minor": 2
}
